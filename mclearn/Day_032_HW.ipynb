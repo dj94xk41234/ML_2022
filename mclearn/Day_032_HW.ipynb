{
 "cells": [
  {
   "cell_type": "markdown",
   "metadata": {
    "collapsed": true
   },
   "source": [
    "# 作業 : (Kaggle)鐵達尼生存預測"
   ]
  },
  {
   "cell_type": "markdown",
   "metadata": {},
   "source": [
    "# [作業目標]\n",
    "- 試著模仿範例寫法, 在鐵達尼生存預測中, 使用葉編碼並觀察預測效果"
   ]
  },
  {
   "cell_type": "markdown",
   "metadata": {},
   "source": [
    "# [作業重點]\n",
    "- 仿造範例, 完成葉編碼的寫作 : 使用隨機森林 (In[3], Out[3], In[4], Out[4])\n",
    "- 仿造範例, 觀察葉編碼搭配邏輯斯迴歸後的效果 (In[5], Out[5], In[6], Out[6]) "
   ]
  },
  {
   "cell_type": "code",
   "execution_count": 1,
   "metadata": {},
   "outputs": [
    {
     "data": {
      "text/html": [
       "<div>\n",
       "<style scoped>\n",
       "    .dataframe tbody tr th:only-of-type {\n",
       "        vertical-align: middle;\n",
       "    }\n",
       "\n",
       "    .dataframe tbody tr th {\n",
       "        vertical-align: top;\n",
       "    }\n",
       "\n",
       "    .dataframe thead th {\n",
       "        text-align: right;\n",
       "    }\n",
       "</style>\n",
       "<table border=\"1\" class=\"dataframe\">\n",
       "  <thead>\n",
       "    <tr style=\"text-align: right;\">\n",
       "      <th></th>\n",
       "      <th>Pclass</th>\n",
       "      <th>Name</th>\n",
       "      <th>Sex</th>\n",
       "      <th>Age</th>\n",
       "      <th>SibSp</th>\n",
       "      <th>Parch</th>\n",
       "      <th>Ticket</th>\n",
       "      <th>Fare</th>\n",
       "      <th>Cabin</th>\n",
       "      <th>Embarked</th>\n",
       "    </tr>\n",
       "  </thead>\n",
       "  <tbody>\n",
       "    <tr>\n",
       "      <th>0</th>\n",
       "      <td>3</td>\n",
       "      <td>Braund, Mr. Owen Harris</td>\n",
       "      <td>male</td>\n",
       "      <td>22.0</td>\n",
       "      <td>1</td>\n",
       "      <td>0</td>\n",
       "      <td>A/5 21171</td>\n",
       "      <td>7.2500</td>\n",
       "      <td>NaN</td>\n",
       "      <td>S</td>\n",
       "    </tr>\n",
       "    <tr>\n",
       "      <th>1</th>\n",
       "      <td>1</td>\n",
       "      <td>Cumings, Mrs. John Bradley (Florence Briggs Th...</td>\n",
       "      <td>female</td>\n",
       "      <td>38.0</td>\n",
       "      <td>1</td>\n",
       "      <td>0</td>\n",
       "      <td>PC 17599</td>\n",
       "      <td>71.2833</td>\n",
       "      <td>C85</td>\n",
       "      <td>C</td>\n",
       "    </tr>\n",
       "    <tr>\n",
       "      <th>2</th>\n",
       "      <td>3</td>\n",
       "      <td>Heikkinen, Miss. Laina</td>\n",
       "      <td>female</td>\n",
       "      <td>26.0</td>\n",
       "      <td>0</td>\n",
       "      <td>0</td>\n",
       "      <td>STON/O2. 3101282</td>\n",
       "      <td>7.9250</td>\n",
       "      <td>NaN</td>\n",
       "      <td>S</td>\n",
       "    </tr>\n",
       "    <tr>\n",
       "      <th>3</th>\n",
       "      <td>1</td>\n",
       "      <td>Futrelle, Mrs. Jacques Heath (Lily May Peel)</td>\n",
       "      <td>female</td>\n",
       "      <td>35.0</td>\n",
       "      <td>1</td>\n",
       "      <td>0</td>\n",
       "      <td>113803</td>\n",
       "      <td>53.1000</td>\n",
       "      <td>C123</td>\n",
       "      <td>S</td>\n",
       "    </tr>\n",
       "    <tr>\n",
       "      <th>4</th>\n",
       "      <td>3</td>\n",
       "      <td>Allen, Mr. William Henry</td>\n",
       "      <td>male</td>\n",
       "      <td>35.0</td>\n",
       "      <td>0</td>\n",
       "      <td>0</td>\n",
       "      <td>373450</td>\n",
       "      <td>8.0500</td>\n",
       "      <td>NaN</td>\n",
       "      <td>S</td>\n",
       "    </tr>\n",
       "  </tbody>\n",
       "</table>\n",
       "</div>"
      ],
      "text/plain": [
       "   Pclass                                               Name     Sex   Age  \\\n",
       "0       3                            Braund, Mr. Owen Harris    male  22.0   \n",
       "1       1  Cumings, Mrs. John Bradley (Florence Briggs Th...  female  38.0   \n",
       "2       3                             Heikkinen, Miss. Laina  female  26.0   \n",
       "3       1       Futrelle, Mrs. Jacques Heath (Lily May Peel)  female  35.0   \n",
       "4       3                           Allen, Mr. William Henry    male  35.0   \n",
       "\n",
       "   SibSp  Parch            Ticket     Fare Cabin Embarked  \n",
       "0      1      0         A/5 21171   7.2500   NaN        S  \n",
       "1      1      0          PC 17599  71.2833   C85        C  \n",
       "2      0      0  STON/O2. 3101282   7.9250   NaN        S  \n",
       "3      1      0            113803  53.1000  C123        S  \n",
       "4      0      0            373450   8.0500   NaN        S  "
      ]
     },
     "execution_count": 1,
     "metadata": {},
     "output_type": "execute_result"
    }
   ],
   "source": [
    "# 做完特徵工程前的所有準備\n",
    "import pandas as pd\n",
    "import numpy as np\n",
    "import copy\n",
    "from sklearn.preprocessing import LabelEncoder, MinMaxScaler\n",
    "from sklearn.linear_model import LogisticRegression\n",
    "from sklearn.ensemble import RandomForestClassifier\n",
    "# 因為擬合(fit)與編碼(transform)需要分開, 因此不使用.get_dummy, 而採用 sklearn 的 OneHotEncoder\n",
    "from sklearn.preprocessing import OneHotEncoder\n",
    "from sklearn.model_selection import train_test_split\n",
    "from sklearn.metrics import roc_curve\n",
    "\n",
    "data_path = 'data/'\n",
    "df = pd.read_csv(data_path + 'titanic_train.csv')\n",
    "\n",
    "train_Y = df['Survived']\n",
    "df = df.drop(['PassengerId', 'Survived'] , axis=1)\n",
    "df.head()"
   ]
  },
  {
   "cell_type": "code",
   "execution_count": 2,
   "metadata": {},
   "outputs": [
    {
     "data": {
      "text/html": [
       "<div>\n",
       "<style scoped>\n",
       "    .dataframe tbody tr th:only-of-type {\n",
       "        vertical-align: middle;\n",
       "    }\n",
       "\n",
       "    .dataframe tbody tr th {\n",
       "        vertical-align: top;\n",
       "    }\n",
       "\n",
       "    .dataframe thead th {\n",
       "        text-align: right;\n",
       "    }\n",
       "</style>\n",
       "<table border=\"1\" class=\"dataframe\">\n",
       "  <thead>\n",
       "    <tr style=\"text-align: right;\">\n",
       "      <th></th>\n",
       "      <th>Pclass</th>\n",
       "      <th>Name</th>\n",
       "      <th>Sex</th>\n",
       "      <th>Age</th>\n",
       "      <th>SibSp</th>\n",
       "      <th>Parch</th>\n",
       "      <th>Ticket</th>\n",
       "      <th>Fare</th>\n",
       "      <th>Cabin</th>\n",
       "      <th>Embarked</th>\n",
       "    </tr>\n",
       "  </thead>\n",
       "  <tbody>\n",
       "    <tr>\n",
       "      <th>0</th>\n",
       "      <td>1.0</td>\n",
       "      <td>0.121348</td>\n",
       "      <td>1.0</td>\n",
       "      <td>0.283951</td>\n",
       "      <td>0.125</td>\n",
       "      <td>0.0</td>\n",
       "      <td>0.769118</td>\n",
       "      <td>0.014151</td>\n",
       "      <td>0.000000</td>\n",
       "      <td>1.000000</td>\n",
       "    </tr>\n",
       "    <tr>\n",
       "      <th>1</th>\n",
       "      <td>0.0</td>\n",
       "      <td>0.213483</td>\n",
       "      <td>0.0</td>\n",
       "      <td>0.481481</td>\n",
       "      <td>0.125</td>\n",
       "      <td>0.0</td>\n",
       "      <td>0.876471</td>\n",
       "      <td>0.139136</td>\n",
       "      <td>0.557823</td>\n",
       "      <td>0.333333</td>\n",
       "    </tr>\n",
       "    <tr>\n",
       "      <th>2</th>\n",
       "      <td>1.0</td>\n",
       "      <td>0.396629</td>\n",
       "      <td>0.0</td>\n",
       "      <td>0.333333</td>\n",
       "      <td>0.000</td>\n",
       "      <td>0.0</td>\n",
       "      <td>0.983824</td>\n",
       "      <td>0.015469</td>\n",
       "      <td>0.000000</td>\n",
       "      <td>1.000000</td>\n",
       "    </tr>\n",
       "    <tr>\n",
       "      <th>3</th>\n",
       "      <td>0.0</td>\n",
       "      <td>0.305618</td>\n",
       "      <td>0.0</td>\n",
       "      <td>0.444444</td>\n",
       "      <td>0.125</td>\n",
       "      <td>0.0</td>\n",
       "      <td>0.072059</td>\n",
       "      <td>0.103644</td>\n",
       "      <td>0.380952</td>\n",
       "      <td>1.000000</td>\n",
       "    </tr>\n",
       "    <tr>\n",
       "      <th>4</th>\n",
       "      <td>1.0</td>\n",
       "      <td>0.016854</td>\n",
       "      <td>1.0</td>\n",
       "      <td>0.444444</td>\n",
       "      <td>0.000</td>\n",
       "      <td>0.0</td>\n",
       "      <td>0.694118</td>\n",
       "      <td>0.015713</td>\n",
       "      <td>0.000000</td>\n",
       "      <td>1.000000</td>\n",
       "    </tr>\n",
       "  </tbody>\n",
       "</table>\n",
       "</div>"
      ],
      "text/plain": [
       "   Pclass      Name  Sex       Age  SibSp  Parch    Ticket      Fare  \\\n",
       "0     1.0  0.121348  1.0  0.283951  0.125    0.0  0.769118  0.014151   \n",
       "1     0.0  0.213483  0.0  0.481481  0.125    0.0  0.876471  0.139136   \n",
       "2     1.0  0.396629  0.0  0.333333  0.000    0.0  0.983824  0.015469   \n",
       "3     0.0  0.305618  0.0  0.444444  0.125    0.0  0.072059  0.103644   \n",
       "4     1.0  0.016854  1.0  0.444444  0.000    0.0  0.694118  0.015713   \n",
       "\n",
       "      Cabin  Embarked  \n",
       "0  0.000000  1.000000  \n",
       "1  0.557823  0.333333  \n",
       "2  0.000000  1.000000  \n",
       "3  0.380952  1.000000  \n",
       "4  0.000000  1.000000  "
      ]
     },
     "execution_count": 2,
     "metadata": {},
     "output_type": "execute_result"
    }
   ],
   "source": [
    "# 因為需要把類別型與數值型特徵都加入, 故使用最簡版的特徵工程\n",
    "LEncoder = LabelEncoder()\n",
    "MMEncoder = MinMaxScaler()\n",
    "for c in df.columns:\n",
    "    df[c] = df[c].fillna(-1)\n",
    "    if df[c].dtype == 'object':\n",
    "        df[c] = LEncoder.fit_transform(list(df[c].values))\n",
    "    df[c] = MMEncoder.fit_transform(df[c].values.reshape(-1, 1))\n",
    "df.head()"
   ]
  },
  {
   "cell_type": "code",
   "execution_count": 3,
   "metadata": {},
   "outputs": [],
   "source": [
    "train_X = df.values\n",
    "# 因為訓練邏輯斯迴歸時也要資料, 因此將訓練及切成三部分 train / val / test, 採用 test 驗證而非 k-fold 交叉驗證\n",
    "# train 用來訓練梯度提升樹, val 用來訓練邏輯斯迴歸, test 驗證效果\n",
    "train_X, test_X, train_Y, test_Y = train_test_split(train_X, train_Y, test_size=0.5)\n",
    "train_X, val_X, train_Y, val_Y = train_test_split(train_X, train_Y, test_size=0.5)"
   ]
  },
  {
   "cell_type": "markdown",
   "metadata": {
    "collapsed": true
   },
   "source": [
    "# 作業1\n",
    "* 請對照範例，完成隨機森林的鐵達尼生存率預測，以及對應的葉編碼+邏輯斯迴歸"
   ]
  },
  {
   "cell_type": "code",
   "execution_count": 26,
   "metadata": {},
   "outputs": [
    {
     "data": {
      "text/plain": [
       "LogisticRegression(max_iter=1000)"
      ]
     },
     "execution_count": 26,
     "metadata": {},
     "output_type": "execute_result"
    }
   ],
   "source": [
    "# 隨機森林擬合後, 再將葉編碼 (*.apply) 結果做獨熱 / 邏輯斯迴歸\n",
    "rf = RandomForestClassifier(n_estimators=20, min_samples_split=10, min_samples_leaf=5, \n",
    "                            max_features=4, max_depth=3, bootstrap=True)\n",
    "onehot = OneHotEncoder()\n",
    "lr = LogisticRegression(solver='lbfgs', max_iter=1000)\n",
    "\n",
    "\"\"\"\n",
    "Your Code Here (Hint : 隨機森林的葉編碼(.apply)不需要加上[:, :, 0], 直接用rf.apply()調用即可, 本作業其餘寫法相同)\n",
    "\"\"\"\n",
    "rf.fit(train_X, train_Y)\n",
    "onehot.fit(rf.apply(train_X))\n",
    "lr.fit(onehot.transform(rf.apply(val_X)), val_Y)"
   ]
  },
  {
   "cell_type": "code",
   "execution_count": 28,
   "metadata": {},
   "outputs": [
    {
     "data": {
      "text/plain": [
       "array([[10,  6,  5, ..., 14,  6, 11],\n",
       "       [14, 10,  9, ...,  4,  7,  7],\n",
       "       [ 3,  3,  3, ..., 10,  4, 12],\n",
       "       ...,\n",
       "       [14, 10,  4, ...,  3,  9,  6],\n",
       "       [ 4, 10,  9, ...,  6,  9,  3],\n",
       "       [10,  6, 11, ..., 13,  7, 11]], dtype=int64)"
      ]
     },
     "execution_count": 28,
     "metadata": {},
     "output_type": "execute_result"
    }
   ],
   "source": [
    "rf.apply(train_X)"
   ]
  },
  {
   "cell_type": "code",
   "execution_count": 23,
   "metadata": {},
   "outputs": [],
   "source": [
    "# 將隨機森林+葉編碼+邏輯斯迴歸結果輸出\n",
    "\"\"\"\n",
    "Your Code Here \n",
    "\"\"\"\n",
    "pred_rf_lr = lr.predict_proba(onehot.transform(rf.apply(test_X)))[:, 1]\n",
    "fpr_rf_lr, tpr_rf_lr, _ = roc_curve(test_Y, pred_rf_lr)\n",
    "# 將隨機森林結果輸出\n",
    "\"\"\"\n",
    "Your Code Here \n",
    "\"\"\"\n",
    "pred_rf = rf.predict_proba(test_X)[:, 1]\n",
    "fpr_rf, tpr_rf, _ = roc_curve(test_Y, pred_rf)"
   ]
  },
  {
   "cell_type": "code",
   "execution_count": 29,
   "metadata": {},
   "outputs": [
    {
     "data": {
      "text/plain": [
       "array([0.13031585, 0.11854756, 0.61785427, 0.11155821, 0.58038188,\n",
       "       0.53190488, 0.59879119, 0.8996978 , 0.3299877 , 0.13031585,\n",
       "       0.13031585, 0.25945357, 0.643986  , 0.62229347, 0.10429352,\n",
       "       0.36983104, 0.08553588, 0.46319731, 0.13031585, 0.54457372,\n",
       "       0.92330891, 0.45188577, 0.42757939, 0.57724462, 0.90014902,\n",
       "       0.24465922, 0.56715096, 0.44239799, 0.5453204 , 0.11860013,\n",
       "       0.36942147, 0.56868443, 0.52273716, 0.13031585, 0.87013404,\n",
       "       0.15022034, 0.10429352, 0.63642347, 0.86513404, 0.11854756,\n",
       "       0.13935133, 0.35784423, 0.90724384, 0.3299877 , 0.12931795,\n",
       "       0.37620067, 0.67071149, 0.80464214, 0.11155821, 0.71682598,\n",
       "       0.36652243, 0.88765801, 0.25054136, 0.89613273, 0.31452759,\n",
       "       0.92330891, 0.40147422, 0.10716442, 0.53375034, 0.84187253,\n",
       "       0.87403797, 0.86293291, 0.37601042, 0.6109134 , 0.4296173 ,\n",
       "       0.41343387, 0.42362736, 0.61574243, 0.09965551, 0.44463115,\n",
       "       0.15556353, 0.54898564, 0.1170344 , 0.34536598, 0.113329  ,\n",
       "       0.84969776, 0.38182135, 0.46353623, 0.54599405, 0.12606988,\n",
       "       0.93220724, 0.89136956, 0.73193368, 0.42842655, 0.72036211,\n",
       "       0.71100638, 0.72526929, 0.55336024, 0.70484027, 0.81230436,\n",
       "       0.13031585, 0.14850312, 0.70484027, 0.30987355, 0.09457136,\n",
       "       0.12059369, 0.13031585, 0.15452025, 0.29174155, 0.37340013,\n",
       "       0.42619858, 0.13835343, 0.13031585, 0.86449812, 0.49899009,\n",
       "       0.56117553, 0.11155821, 0.4269513 , 0.92983491, 0.49028936,\n",
       "       0.3268134 , 0.60707324, 0.41731544, 0.57500796, 0.30077702,\n",
       "       0.58650182, 0.35258556, 0.35532012, 0.49028936, 0.62744337,\n",
       "       0.48109043, 0.11854756, 0.50135086, 0.1228461 , 0.85088707,\n",
       "       0.38450346, 0.27801759, 0.113329  , 0.37414155, 0.84006059,\n",
       "       0.54381096, 0.86406923, 0.75893354, 0.40344628, 0.83469029,\n",
       "       0.32985561, 0.72036211, 0.10429352, 0.25182695, 0.38435522,\n",
       "       0.47904984, 0.28514548, 0.12931795, 0.84775133, 0.13263223,\n",
       "       0.90200076, 0.88332975, 0.63093393, 0.1170344 , 0.56791713,\n",
       "       0.84535492, 0.95011123, 0.3299877 , 0.14850312, 0.88128997,\n",
       "       0.22400589, 0.5830986 , 0.56290705, 0.46249574, 0.12269374,\n",
       "       0.13031585, 0.1170344 , 0.08553588, 0.86017758, 0.1228461 ,\n",
       "       0.91098011, 0.87960068, 0.89136956, 0.90424391, 0.88214918,\n",
       "       0.10429352, 0.54599405, 0.11155821, 0.48109043, 0.42102764,\n",
       "       0.51763467, 0.86572041, 0.63075748, 0.4901259 , 0.12463412,\n",
       "       0.84469776, 0.10971639, 0.11854756, 0.46479961, 0.59661264,\n",
       "       0.34036634, 0.69644674, 0.35109159, 0.94289474, 0.14548477,\n",
       "       0.12463412, 0.46319731, 0.46479961, 0.72447564, 0.15556353,\n",
       "       0.46319731, 0.7172104 , 0.42362736, 0.92960447, 0.14738908,\n",
       "       0.52883129, 0.41892452, 0.13031585, 0.30077702, 0.12931795,\n",
       "       0.12931795, 0.12489363, 0.51122166, 0.13031585, 0.27801759,\n",
       "       0.7252876 , 0.12059369, 0.3933907 , 0.11155821, 0.39877891,\n",
       "       0.13935133, 0.12931795, 0.13366959, 0.18035254, 0.13031585,\n",
       "       0.65373461, 0.32082956, 0.30027793, 0.47193282, 0.57968857,\n",
       "       0.46262357, 0.09985982, 0.11155821, 0.52049464, 0.33270258,\n",
       "       0.36983104, 0.36983104, 0.36983104, 0.10956465, 0.38616103,\n",
       "       0.8086106 , 0.29902979, 0.17542061, 0.07928588, 0.10937692,\n",
       "       0.88530625, 0.36990229, 0.54381096, 0.89613273, 0.1170344 ,\n",
       "       0.34466419, 0.64111868, 0.13935133, 0.12176322, 0.86101216,\n",
       "       0.58545886, 0.15683645, 0.1259901 , 0.52733791, 0.13031585,\n",
       "       0.41918256, 0.56072363, 0.11854756, 0.55363355, 0.77272604,\n",
       "       0.39254476, 0.11155821, 0.09965551, 0.59851121, 0.91555197,\n",
       "       0.90724384, 0.13031585, 0.28514548, 0.13031585, 0.13935133,\n",
       "       0.12758304, 0.13031585, 0.41265117, 0.91452173, 0.353774  ,\n",
       "       0.94289474, 0.6109134 , 0.24003093, 0.67413681, 0.33906084,\n",
       "       0.8139001 , 0.77830854, 0.88530625, 0.08229788, 0.52455936,\n",
       "       0.36652243, 0.13828387, 0.13318675, 0.14548477, 0.24657405,\n",
       "       0.69441071, 0.5876041 , 0.88128997, 0.26981274, 0.13031585,\n",
       "       0.57500796, 0.83469029, 0.48848376, 0.47153172, 0.12931795,\n",
       "       0.5835606 , 0.46159927, 0.68016104, 0.87030632, 0.60862821,\n",
       "       0.61482282, 0.54022485, 0.68408112, 0.86293291, 0.11155821,\n",
       "       0.57721134, 0.46319731, 0.12801508, 0.65986282, 0.18315159,\n",
       "       0.85095424, 0.11155821, 0.83710935, 0.44520489, 0.11434369,\n",
       "       0.10429352, 0.13935133, 0.12606988, 0.12849792, 0.80903047,\n",
       "       0.36652243, 0.11155821, 0.13935133, 0.53681569, 0.13263223,\n",
       "       0.10429352, 0.33396636, 0.40004166, 0.66126899, 0.13031585,\n",
       "       0.13935133, 0.46319731, 0.44156242, 0.91928363, 0.26077726,\n",
       "       0.38699403, 0.13031585, 0.49447231, 0.27119469, 0.93178363,\n",
       "       0.89613273, 0.13935133, 0.58366723, 0.86199819, 0.49493231,\n",
       "       0.52095916, 0.72584915, 0.93148604, 0.53634456, 0.37371933,\n",
       "       0.54926357, 0.11854756, 0.52574346, 0.81814022, 0.14151517,\n",
       "       0.37893777, 0.13935133, 0.11820809, 0.88765801, 0.88128997,\n",
       "       0.30077702, 0.12025562, 0.62216833, 0.22906752, 0.13828387,\n",
       "       0.17542061, 0.42619858, 0.8547759 , 0.68393076, 0.14548477,\n",
       "       0.41988281, 0.5602696 , 0.22040169, 0.13935133, 0.14398391,\n",
       "       0.31204063, 0.7898377 , 0.57723707, 0.08553588, 0.85357703,\n",
       "       0.43563494, 0.50960476, 0.13366959, 0.10429352, 0.88391275,\n",
       "       0.82244077, 0.36433111, 0.62997396, 0.68631349, 0.57723707,\n",
       "       0.85282276, 0.34219498, 0.14548477, 0.14850312, 0.59398909,\n",
       "       0.87136726, 0.6109134 , 0.69470228, 0.13935133, 0.37893777,\n",
       "       0.1228461 , 0.55526554, 0.5398323 , 0.56690756, 0.44953044,\n",
       "       0.47112982, 0.38043256, 0.35988764, 0.43262357, 0.3299877 ,\n",
       "       0.13031585, 0.13031585, 0.1170344 , 0.87652679, 0.47395798,\n",
       "       0.17489357, 0.37754782, 0.91928363, 0.36990229, 0.3299877 ,\n",
       "       0.11155821, 0.17489357, 0.10429352, 0.50683711, 0.49442376,\n",
       "       0.10300558, 0.36990229, 0.49852312, 0.27919831, 0.40433952,\n",
       "       0.92805197, 0.25054136, 0.83485499, 0.89136956, 0.52649897,\n",
       "       0.17489357, 0.34844498, 0.10956465, 0.30027793, 0.12059369,\n",
       "       0.44463115])"
      ]
     },
     "execution_count": 29,
     "metadata": {},
     "output_type": "execute_result"
    }
   ],
   "source": [
    "pred_rf"
   ]
  },
  {
   "cell_type": "markdown",
   "metadata": {},
   "source": [
    "# 作業2\n",
    "* 上述的結果，葉編碼是否有提高預測的正確性呢?"
   ]
  },
  {
   "cell_type": "code",
   "execution_count": 24,
   "metadata": {},
   "outputs": [
    {
     "data": {
      "image/png": "[encoded data removed]",
      "text/plain": [
       "<Figure size 432x288 with 1 Axes>"
      ]
     },
     "metadata": {
      "needs_background": "light"
     },
     "output_type": "display_data"
    }
   ],
   "source": [
    "import matplotlib.pyplot as plt\n",
    "# 將結果繪圖\n",
    "\"\"\"\n",
    "Your Code Here \n",
    "\"\"\"\n",
    "plt.plot([0, 1], [0, 1], 'k--')\n",
    "plt.plot(fpr_rf, tpr_rf, label='RF')\n",
    "plt.plot(fpr_rf_lr, tpr_rf_lr, label='RF + LR')\n",
    "plt.xlabel('False positive rate')\n",
    "plt.ylabel('True positive rate')\n",
    "plt.title('ROC curve')\n",
    "plt.legend(loc='best')\n",
    "plt.show()"
   ]
  },
  {
   "cell_type": "code",
   "execution_count": null,
   "metadata": {
    "collapsed": true
   },
   "outputs": [],
   "source": []
  }
 ],
 "metadata": {
  "kernelspec": {
   "display_name": "Python 3",
   "language": "python",
   "name": "python3"
  },
  "language_info": {
   "codemirror_mode": {
    "name": "ipython",
    "version": 3
   },
   "file_extension": ".py",
   "mimetype": "text/x-python",
   "name": "python",
   "nbconvert_exporter": "python",
   "pygments_lexer": "ipython3",
   "version": "3.8.3"
  }
 },
 "nbformat": 4,
 "nbformat_minor": 2
}
